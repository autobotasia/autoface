{
 "nbformat": 4,
 "nbformat_minor": 2,
 "metadata": {
  "language_info": {
   "name": "python",
   "codemirror_mode": {
    "name": "ipython",
    "version": 3
   },
   "version": "3.6.8-final"
  },
  "orig_nbformat": 2,
  "file_extension": ".py",
  "mimetype": "text/x-python",
  "name": "python",
  "npconvert_exporter": "python",
  "pygments_lexer": "ipython3",
  "version": 3,
  "kernelspec": {
   "name": "python36864bit2175ce7ebb604c9996c2766b61f24c84",
   "display_name": "Python 3.6.8 64-bit"
  }
 },
 "cells": [
  {
   "cell_type": "code",
   "execution_count": 9,
   "metadata": {},
   "outputs": [
    {
     "output_type": "stream",
     "name": "stdout",
     "text": "(1, '1584353030.png', 'Dang_An_Thien', 0.7028923, 'Bui_Quoc_Khanh', 0.2482445, 'Cao_Thi_Hoan', 0.036128093)\n(2, '1584353030.png', 'Dang_An_Thien', 0.7028923, 'Bui_Quoc_Khanh', 0.2482445, 'Cao_Thi_Hoan', 0.036128093)\n"
    }
   ],
   "source": [
    "import sqlite3\n",
    "\n",
    "conn = None\n",
    "conn = sqlite3.connect('db.sqlite3')\n",
    "with conn:\n",
    "    cur = conn.cursor()\n",
    "    #cur.execute(sql, data)\n",
    "    cur.execute(\"SELECT * FROM ImageDetail\")\n",
    "    rows = cur.fetchall()\n",
    "    #print(rows)\n",
    "    for row in rows:\n",
    "        print(row)\n",
    ""
   ]
  },
  {
   "cell_type": "code",
   "execution_count": null,
   "metadata": {},
   "outputs": [],
   "source": []
  }
 ]
}